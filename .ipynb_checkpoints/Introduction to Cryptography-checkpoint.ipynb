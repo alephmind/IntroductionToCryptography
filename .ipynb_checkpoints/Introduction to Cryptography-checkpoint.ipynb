{
 "cells": [
  {
   "cell_type": "markdown",
   "metadata": {},
   "source": [
    "# 1. Introduction to Cryptography."
   ]
  },
  {
   "cell_type": "markdown",
   "metadata": {},
   "source": [
    "Welcome to our Introduction to Cryptography repository! In this notebook, we will explain and implement some important algorithms in the field of cryptography, such as RSA and ElGamal protocols."
   ]
  },
  {
   "cell_type": "code",
   "execution_count": 56,
   "metadata": {},
   "outputs": [],
   "source": [
    "# Import libraries.\n",
    "import string\n",
    "import binascii\n",
    "import math\n",
    "import random\n",
    "from sympy import mod_inverse"
   ]
  },
  {
   "cell_type": "markdown",
   "metadata": {},
   "source": [
    "## Encoding & Decoding functions."
   ]
  },
  {
   "cell_type": "code",
   "execution_count": 23,
   "metadata": {},
   "outputs": [],
   "source": [
    "# Text to bits.\n",
    "def text_to_bits(text, encoding='utf-8', errors='surrogatepass'):\n",
    "    bits = bin(int(binascii.hexlify(text.encode(encoding, errors)), 16))[2:]\n",
    "    return bits.zfill(8 * ((len(bits) + 7) // 8))\n",
    "\n",
    "# Int2bytes.\n",
    "def int2bytes(i):\n",
    "    hex_string = '%x' % i\n",
    "    n = len(hex_string)\n",
    "    return binascii.unhexlify(hex_string.zfill(n + (n & 1)))\n",
    "\n",
    "# IntToString.\n",
    "def int2string(i, encoding='utf-8', errors='surrogatepass'):\n",
    "    bytes_ = int2bytes(i)\n",
    "    return bytes_.decode(encoding, errors)\n",
    "\n",
    "# String to int.\n",
    "def string2int(text):\n",
    "    bits_ = text_to_bits(text)\n",
    "    return int(bits_, 2)\n",
    "\n",
    "# Convert a string to a list of substring of length 4 or less.\n",
    "def string_to_4list(text):\n",
    "    list_of_messages = list()\n",
    "    pos = 0\n",
    "    while pos < len(text):\n",
    "        try:\n",
    "            list_of_messages.append(text[pos: pos + 4])\n",
    "            pos += 4\n",
    "        except:\n",
    "            list_of_message.append(text[pos: len(text)])\n",
    "    return list_of_messages\n",
    "\n",
    "# Rejoin lists.\n",
    "def joinTextList(text_list): \n",
    "    return \"\".join(text_list)"
   ]
  },
  {
   "cell_type": "code",
   "execution_count": null,
   "metadata": {},
   "outputs": [],
   "source": []
  },
  {
   "cell_type": "markdown",
   "metadata": {},
   "source": [
    "## 1. ElGamal Cryptosystem.\n",
    "\n",
    "<img src = \"https://img.microsiervos.com/images2017/Alice-Bob.jpg\" width = \"300px\">\n",
    "\n",
    "Suponga que Alice y Bob seleccionan un número primo $n$ \"grande\" con la finalidad de trabajar en la aritmética de $\\mathbb{Z}_{n}$. \n",
    "\n",
    "Adicionalmente, Alice selecciona un número $1 \\leq p \\leq n-1$ y un número $e$ \"suficientemente grande\" tal que no exceda a $n-1$. Alice le dice a Bob los valores de $p$ y de $t \\equiv p^e \\pmod{n}$ como su **llave pública** mientras que $e$ se mantiene en secreto como su **llave privada** (note que no es fácil calcular $e$ a partir de $p$ ni $t$).\n",
    "\n",
    "\n",
    "$$z \\equiv p^k \\pmod{n} \\quad \\text{y} \\quad c \\equiv m \\cdot t^k \\pmod{n}$$\n",
    "\n",
    "y se los envía a Alice.\n",
    "\n",
    "A pesar de que Alice no conoce el valor de $k$, ella utiliza la siguiente fórmula para encontrar el valor de $m$:\n",
    "\n",
    "$$m \\equiv c \\cdot [(z)^e]^{-1} \\pmod{n}$$\n",
    "\n",
    "(¡recuerde que el inverso multiplicativo de $(z)^e$ existe ya que $\\mathbb{Z}_n$ es un campo pues $n$ es primo!). "
   ]
  },
  {
   "cell_type": "markdown",
   "metadata": {},
   "source": [
    "### Alice public key."
   ]
  },
  {
   "cell_type": "code",
   "execution_count": 125,
   "metadata": {},
   "outputs": [
    {
     "name": "stdout",
     "output_type": "stream",
     "text": [
      "We will send a message in the Z_{702482982520547880828948305207103113695773538770615895880963006435122026651838320050102722658321974688919744399066815765970738780274407759263127062099402946725072139630782989707922566349495940583089390681691338245259264201688493189857777202885622927759157247517957073079262062967326577253463431980321} arithmetics.\n"
     ]
    }
   ],
   "source": [
    "# We select a prime n.\n",
    "# This prime number has more than 300 hundred digits!\n",
    "n = 702482982520547880828948305207103113695773538770615895880963006435122026651838320050102722658321974688919744399066815765970738780274407759263127062099402946725072139630782989707922566349495940583089390681691338245259264201688493189857777202885622927759157247517957073079262062967326577253463431980321\n",
    "print(\"We will send a message in the Z_{\" + str(n) + \"} arithmetics.\")"
   ]
  },
  {
   "cell_type": "code",
   "execution_count": 126,
   "metadata": {},
   "outputs": [],
   "source": [
    "# Alice values.\n",
    "p = random.randint(n - 1000000000, n - 2)\n",
    "e = random.randint(n - 1000000000, n - 2)"
   ]
  },
  {
   "cell_type": "code",
   "execution_count": 136,
   "metadata": {},
   "outputs": [
    {
     "name": "stdout",
     "output_type": "stream",
     "text": [
      "p = 702482982520547880828948305207103113695773538770615895880963006435122026651838320050102722658321974688919744399066815765970738780274407759263127062099402946725072139630782989707922566349495940583089390681691338245259264201688493189857777202885622927759157247517957073079262062967326577253463173584563\n"
     ]
    }
   ],
   "source": [
    "print(\"p =\", p)"
   ]
  },
  {
   "cell_type": "code",
   "execution_count": 137,
   "metadata": {},
   "outputs": [
    {
     "name": "stdout",
     "output_type": "stream",
     "text": [
      "e = 702482982520547880828948305207103113695773538770615895880963006435122026651838320050102722658321974688919744399066815765970738780274407759263127062099402946725072139630782989707922566349495940583089390681691338245259264201688493189857777202885622927759157247517957073079262062967326577253463130943656\n"
     ]
    }
   ],
   "source": [
    "print(\"e =\", e)"
   ]
  },
  {
   "cell_type": "code",
   "execution_count": 138,
   "metadata": {},
   "outputs": [
    {
     "name": "stdout",
     "output_type": "stream",
     "text": [
      "p < (n - 1):  True\n",
      "e < (n - 1):  True\n"
     ]
    }
   ],
   "source": [
    "# Check that conditions satifies.\n",
    "print(\"p < (n - 1): \", p < (n - 1))\n",
    "print(\"e < (n - 1): \", e < (n - 1))"
   ]
  },
  {
   "cell_type": "code",
   "execution_count": 139,
   "metadata": {},
   "outputs": [
    {
     "name": "stdout",
     "output_type": "stream",
     "text": [
      "Alice public key: \n",
      "p => 702482982520547880828948305207103113695773538770615895880963006435122026651838320050102722658321974688919744399066815765970738780274407759263127062099402946725072139630782989707922566349495940583089390681691338245259264201688493189857777202885622927759157247517957073079262062967326577253463173584563\n",
      "t => 389245488889989893013557969914474902069563488419125591855067361832489493952586487880817784644919686175097856333455043156115908249075522166707170995646671032387793820564872964319226731794564970256630678130247849272985036856979223536745316655884382233224236093557632895725753089125823168881748994104180\n"
     ]
    }
   ],
   "source": [
    "# Alice public key.\n",
    "t = pow(p, e, n)\n",
    "print(\"Alice public key: \")\n",
    "print(\"p =>\", p)\n",
    "print(\"t =>\", t)"
   ]
  },
  {
   "cell_type": "markdown",
   "metadata": {},
   "source": [
    "### Bob sends a message."
   ]
  },
  {
   "cell_type": "code",
   "execution_count": 142,
   "metadata": {},
   "outputs": [
    {
     "name": "stdout",
     "output_type": "stream",
     "text": [
      "k < (n - 1):  True\n"
     ]
    }
   ],
   "source": [
    "# Bob selects k.\n",
    "k = random.randint(n - 1000000000, n - 2)\n",
    "print(\"k < (n - 1): \", k < (n - 1))"
   ]
  },
  {
   "cell_type": "code",
   "execution_count": 143,
   "metadata": {},
   "outputs": [
    {
     "name": "stdout",
     "output_type": "stream",
     "text": [
      "k = 702482982520547880828948305207103113695773538770615895880963006435122026651838320050102722658321974688919744399066815765970738780274407759263127062099402946725072139630782989707922566349495940583089390681691338245259264201688493189857777202885622927759157247517957073079262062967326577253463032980400\n"
     ]
    }
   ],
   "source": [
    "print(\"k =\", k)"
   ]
  },
  {
   "cell_type": "code",
   "execution_count": 144,
   "metadata": {},
   "outputs": [],
   "source": [
    "# Bob's message.\n",
    "message = \"Hi Alice, how are you?\""
   ]
  },
  {
   "cell_type": "code",
   "execution_count": 151,
   "metadata": {
    "scrolled": true
   },
   "outputs": [],
   "source": [
    "def send_message(message):\n",
    "    \n",
    "    list_of_values = list()\n",
    "    list_of_messages = string_to_4list(message)\n",
    "    \n",
    "    for subtext in list_of_messages:\n",
    "        \n",
    "        k = random.randint(n - 100000, n)\n",
    "        z = pow(p, k, n)\n",
    "        m = string2int(subtext)\n",
    "        c = pow(m * pow(t, k, n), 1, n)\n",
    "        \n",
    "        list_of_values.append((z, c))\n",
    "        \n",
    "    return list_of_values\n",
    "values = send_message(message)"
   ]
  },
  {
   "cell_type": "markdown",
   "metadata": {},
   "source": [
    "### If we intercept the message, this is what we would see."
   ]
  },
  {
   "cell_type": "code",
   "execution_count": 156,
   "metadata": {},
   "outputs": [
    {
     "name": "stdout",
     "output_type": "stream",
     "text": [
      "Hi Alice, how are you?  convers to =>  [(55960448934351647891868772078499630833939881513351550229810840951887102033428409358374277345135487449648515038396371008917788197557278068988357994051889517457183098364850692591027910119541022879290694889209327258017685750873023853607090092498709399381525464400031080992197795957266085035537730724995, 498572398361654793731821346151919053303408055949775935766601839312596745575025330263727291439037093968545052108369915394425292185040815869454088372307762962453427462414871508702776153819170703117830420613364582808503446357734342697149707196494908977347262490230503433481113193298344183727478634486737), (25113813904267928737172597998886426454774613296102625691707907931443038402559190529355679084554956551331230023585430864403697590131168181488169429333485113248167046976291796748937231110238366930434376873881684051728184840449140129781495558164000505824559739299908960342516650326827499148366198272226, 56029471305529715280605664317514117797129587336590410653863089634502374916226470421542140618588583677386431199953719099458496381473586620507067452381267208281636961381944168417703705791343133926638359556128327249940200198232009394817640739846052349033648649105474082536698746655700711622230220577629), (292909023739569012982199169696457288038694628042639737123340124533340314465282215411292908138509746911274372317774884862090088351016799471348202290917308966986292793412241531296759891903419492549922320360600869309389524298838273622703722868278901922593493459686349525594298053844543843300951642089881, 459582284952073603270788478322370144541370420128675633693054007662490045482721710456191138004097080630880981577129061485540360959957661588389238827693684441444217910875300638099896606586116362334274399084555530060996313255677544702897567522555141028818635167314665652765118185113203548797634252103130), (175898973073835310175701846360334547156224776125090010701184300243911538575041265916260957726906493543592869061110908895203304790154760434802441628100286283697719072480601603952381312933547923500975479547316968022211673343237366979560758390221962293079896566228733104588181352935939670205191025565808, 326603504324348792835906107434830529880327332118313573228346636748239781375598397399577479073842872979075975884784866054438150957590708495865031436147798501699899811583293056603431729826481833909695184301324561286140704387273152007801323975602733141205979673426415951146239321317639922542406926558722), (592021847366132709653244179602631525271954413772643627847952037988640050737372561854913594953607427823871803852096307482733666628900435209472339969824793425168758564058648056379826363468792618065856218586068257990276888915514024892813784446884940499250969558917496647423068351604453425603342082046894, 470378632449929937177650410676692792906325828824593312038999923249473138925597158561865643764675450106581811958746947010373225948643857401365167546033397000130411999159320220116576604723398150623592244048462658947540395449420089737082955900862508859553994494169208366942421251814761551780619427836793), (653775966176438917349877833324363911755010426425388783358217769650338791556933722757227693719300379415647996085243710952739807314201853854548143361112247867384955148273394708719359903335783970929155720936576673751640811064272313432456476658852809901042986237728385345185771195068031252143240170281674, 25334774524903334763815380634525576350330992118265092920150578490121562311243005005880740336194627489798599045244763913659032183788156060555715824041113158135800660045759311524720148976153447624580691110535618353701360865466087714094903334219318222759422236659866936216502859992960809895242456819378)]\n"
     ]
    }
   ],
   "source": [
    "print(message, \" convers to => \", values)"
   ]
  },
  {
   "cell_type": "markdown",
   "metadata": {},
   "source": [
    "### Alice decoding.\n",
    "\n",
    "Alice recieves Bob' message and uses her private key to decode the message."
   ]
  },
  {
   "cell_type": "code",
   "execution_count": 157,
   "metadata": {},
   "outputs": [],
   "source": [
    "def recieve_message(values):\n",
    "    subStrings = list()\n",
    "    for z, c in values:\n",
    "        m = pow(c * mod_inverse(pow(z, e, n), n), 1, n)\n",
    "        subStrings.append(int2string(m))\n",
    "    return \"\".join(subStrings)"
   ]
  },
  {
   "cell_type": "code",
   "execution_count": 158,
   "metadata": {},
   "outputs": [
    {
     "data": {
      "text/plain": [
       "'Hi Alice, how are you?'"
      ]
     },
     "execution_count": 158,
     "metadata": {},
     "output_type": "execute_result"
    }
   ],
   "source": [
    "recieve_message(values)"
   ]
  },
  {
   "cell_type": "markdown",
   "metadata": {},
   "source": [
    "## 2. RSA Cryptosystem."
   ]
  },
  {
   "cell_type": "markdown",
   "metadata": {},
   "source": [
    "**Definition.** $\\phi$ function. \\\n",
    "For any positive integer $n$, the number of integers $x$ in the range $1 \\leq x \\leq n$ such that $gcd(x, n) = 1$ is denoted by $\\phi(n)$. It follow from the result stated above that $\\phi(n)$ is also the number of ivertible elements of $\\mathbb{Z}_n$."
   ]
  },
  {
   "cell_type": "markdown",
   "metadata": {},
   "source": [
    "**Lema**. If $n = pq$, where $p$ and $q$ are primes, then $\\phi(n) = (p-1)(q-1)$. "
   ]
  },
  {
   "cell_type": "code",
   "execution_count": null,
   "metadata": {},
   "outputs": [],
   "source": []
  },
  {
   "cell_type": "code",
   "execution_count": null,
   "metadata": {},
   "outputs": [],
   "source": []
  },
  {
   "cell_type": "code",
   "execution_count": null,
   "metadata": {},
   "outputs": [],
   "source": []
  },
  {
   "cell_type": "code",
   "execution_count": null,
   "metadata": {},
   "outputs": [],
   "source": []
  },
  {
   "cell_type": "code",
   "execution_count": null,
   "metadata": {},
   "outputs": [],
   "source": []
  }
 ],
 "metadata": {
  "kernelspec": {
   "display_name": "Python 3",
   "language": "python",
   "name": "python3"
  },
  "language_info": {
   "codemirror_mode": {
    "name": "ipython",
    "version": 3
   },
   "file_extension": ".py",
   "mimetype": "text/x-python",
   "name": "python",
   "nbconvert_exporter": "python",
   "pygments_lexer": "ipython3",
   "version": "3.7.3"
  }
 },
 "nbformat": 4,
 "nbformat_minor": 2
}
